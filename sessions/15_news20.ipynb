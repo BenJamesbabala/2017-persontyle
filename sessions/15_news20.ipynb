{
 "cells": [
  {
   "cell_type": "markdown",
   "metadata": {
    "deletable": true,
    "editable": true
   },
   "source": [
    "# Text classification with 1-D Convolutional Neural Networks\n",
    "\n",
    "In this notebook we are going to use the [GloVe](http://nlp.stanford.edu/projects/glove/) pre-trained embeddings to train a text classifier on the [20 Newsgroup dataset](http://qwone.com/~jason/20Newsgroups/) by using convolutional neural networks. [This project](https://github.com/jarfo/dlsl/blob/master/news20/pretrained_word_embeddings.py) is part of the UPC deep learning for speech and language (dlsl) semminar.\n"
   ]
  },
  {
   "cell_type": "code",
   "execution_count": 32,
   "metadata": {
    "collapsed": false,
    "deletable": true,
    "editable": true
   },
   "outputs": [],
   "source": [
    "from __future__ import print_function\n",
    "import os\n",
    "import numpy as np\n",
    "from utils import plot_curves\n",
    "np.random.seed(1337)\n",
    "\n",
    "from keras.preprocessing.text import text_to_word_sequence\n",
    "from keras.preprocessing.sequence import pad_sequences\n",
    "from keras.utils.np_utils import to_categorical\n",
    "from keras.layers import Dense, Input, Flatten\n",
    "from keras.layers import Conv1D, MaxPooling1D, Embedding, Dropout\n",
    "from keras.models import Model\n",
    "import timeit\n",
    "import sys\n"
   ]
  },
  {
   "cell_type": "code",
   "execution_count": 8,
   "metadata": {
    "collapsed": true,
    "deletable": true,
    "editable": true
   },
   "outputs": [],
   "source": [
    "BASE_DIR = './'\n",
    "GLOVE_DIR = BASE_DIR + '../../data/glove/'\n",
    "TRAIN_TEXT_DATA_DIR = BASE_DIR + '../../data/20news/20news-bydate-train/'\n",
    "TEST_TEXT_DATA_DIR = BASE_DIR + '../../data/20news/20news-bydate-test/'\n",
    "MAX_SEQUENCE_LENGTH = 1000\n",
    "EMBEDDING_DIM = 100\n"
   ]
  },
  {
   "cell_type": "code",
   "execution_count": 9,
   "metadata": {
    "collapsed": true,
    "deletable": true,
    "editable": true
   },
   "outputs": [],
   "source": [
    "# utility to read the pre-trained glove vectors\n",
    "def read_glove_vectors(filename):\n",
    "    embeddings_index = {}\n",
    "    f = open(filename)\n",
    "    coefs = None\n",
    "    for i, line in enumerate(f):\n",
    "        values = line.split()\n",
    "        word = values[0]\n",
    "        if coefs is None:\n",
    "            coefs = [[0] * len(values[1:])]\n",
    "        coefs.append(values[1:])\n",
    "        embeddings_index[word] = i + 1\n",
    "    f.close()\n",
    "    coefsm = np.asarray(coefs, dtype='float32')\n",
    "    return coefsm, embeddings_index"
   ]
  },
  {
   "cell_type": "code",
   "execution_count": 10,
   "metadata": {
    "collapsed": true,
    "deletable": true,
    "editable": true
   },
   "outputs": [],
   "source": [
    "# Converts a list of texts to a matrix of word indices\n",
    "def test_to_sequence(texts, index, max_sequence_length):\n",
    "    texts = map(text_to_word_sequence, texts)\n",
    "    matrix = np.array(pad_sequences([[index[word] for word in text if word in index] for text in texts], max_sequence_length))\n",
    "    return matrix"
   ]
  },
  {
   "cell_type": "code",
   "execution_count": 11,
   "metadata": {
    "collapsed": false,
    "deletable": true,
    "editable": true
   },
   "outputs": [
    {
     "name": "stdout",
     "output_type": "stream",
     "text": [
      "Reading word vectors.\n",
      "Found 400000 word vectors.\n",
      "Processing text dataset\n",
      "Found 11314 training texts.\n",
      "Found 7532 test texts.\n"
     ]
    }
   ],
   "source": [
    "# first, build index mapping words to rows the embeddings matrix\n",
    "print('Reading word vectors.')\n",
    "embedding_matrix, embeddings_index = read_glove_vectors(os.path.join(GLOVE_DIR, 'glove.6B.%dd.txt' % EMBEDDING_DIM))\n",
    "print('Found %s word vectors.' % len(embeddings_index))\n",
    "\n",
    "# second, prepare text samples and their labels\n",
    "print('Processing text dataset')\n",
    "\n",
    "def prepare_texts(text_data_dir, labels_index = {}):\n",
    "    texts = []  # list of text samples\n",
    "    labels = []  # list of label ids\n",
    "    for name in sorted(os.listdir(text_data_dir)):\n",
    "        path = os.path.join(text_data_dir, name)\n",
    "        if os.path.isdir(path):\n",
    "            label_id = labels_index.get(name)\n",
    "            if label_id is None:\n",
    "                label_id = len(labels_index)\n",
    "                labels_index[name] = label_id\n",
    "            for fname in sorted(os.listdir(path)):\n",
    "                if fname.isdigit():\n",
    "                    fpath = os.path.join(path, fname)\n",
    "                    if sys.version_info < (3,):\n",
    "                        f = open(fpath)\n",
    "                    else:\n",
    "                        f = open(fpath, encoding='latin-1')\n",
    "                    texts.append(f.read())\n",
    "                    f.close()\n",
    "                    labels.append(label_id)\n",
    "\n",
    "    return texts, labels, labels_index\n",
    "\n",
    "train_texts, train_labels, labels_index = prepare_texts(TRAIN_TEXT_DATA_DIR)\n",
    "print('Found %s training texts.' % len(train_texts))\n",
    "test_texts, test_labels, labels_index = prepare_texts(TEST_TEXT_DATA_DIR, labels_index)\n",
    "print('Found %s test texts.' % len(test_texts))"
   ]
  },
  {
   "cell_type": "code",
   "execution_count": 12,
   "metadata": {
    "collapsed": true,
    "deletable": true,
    "editable": true
   },
   "outputs": [],
   "source": [
    "# finally, vectorize the text samples into a 2D integer tensor\n",
    "X_train = test_to_sequence(train_texts, embeddings_index, MAX_SEQUENCE_LENGTH)\n",
    "X_val = test_to_sequence(test_texts, embeddings_index, MAX_SEQUENCE_LENGTH)\n",
    "\n",
    "y_train = np.array(train_labels, dtype='int32')\n",
    "y_val = np.array(test_labels, dtype='int32')"
   ]
  },
  {
   "cell_type": "markdown",
   "metadata": {},
   "source": [
    "**Exercise:** Define a convolutional architecture (based on 1-D convolutional layers + maxpoolings 1D) to build a classifier that gets GloVe Embeddings injected and has to classify the input context among the possible 20 classes defined in 20news. Advice: Check out the convolutional structures of Keras in https://keras.io/layers/convolutional/ ."
   ]
  },
  {
   "cell_type": "code",
   "execution_count": 33,
   "metadata": {
    "collapsed": false,
    "deletable": true,
    "editable": true
   },
   "outputs": [
    {
     "name": "stdout",
     "output_type": "stream",
     "text": [
      "Building model...\n",
      "Elapsed time to build the model 0.645108938217 s\n"
     ]
    }
   ],
   "source": [
    "# load pre-trained word embeddings into an Embedding layer\n",
    "# note that we set trainable = False so as to keep the embeddings fixed\n",
    "embedding_layer = Embedding(embedding_matrix.shape[0],\n",
    "                            embedding_matrix.shape[1],\n",
    "                            weights=[embedding_matrix],\n",
    "                            input_length=MAX_SEQUENCE_LENGTH,\n",
    "                            trainable=False)\n",
    "\n",
    "print('Building model...')\n",
    "beg_t = timeit.default_timer()\n",
    "# TODO: build the conv1D architecture to perform classification on top of the Embeddings input\n",
    "# input is tensor embedding_layer\n",
    "\n",
    "# train a 1D convnet with global maxpooling\n",
    "sequence_input = Input(shape=(MAX_SEQUENCE_LENGTH,), dtype='int32')\n",
    "embedded_sequences = embedding_layer(sequence_input)\n",
    "x = Conv1D(128, 5, activation='relu')(embedded_sequences)\n",
    "x = MaxPooling1D(5)(x)\n",
    "x = Conv1D(128, 5, activation='relu')(x)\n",
    "x = MaxPooling1D(5)(x)\n",
    "x = Conv1D(128, 5, activation='relu')(x)\n",
    "x = MaxPooling1D(35)(x)\n",
    "x = Flatten()(x)\n",
    "x = Dropout(0.5)(x)\n",
    "x = Dense(128, activation='relu')(x)\n",
    "preds = Dense(len(labels_index), activation='softmax')(x)\n",
    "\n",
    "# TODO: compile the model and request the Accuracy metric to be extracted during training\n",
    "model = Model(sequence_input, preds)\n",
    "model.compile(loss='sparse_categorical_crossentropy',\n",
    "              optimizer='adam',\n",
    "              metrics=['acc'])\n",
    "end_t = timeit.default_timer()\n",
    "print('Elapsed time to build the model {} s'.format(end_t - beg_t))"
   ]
  },
  {
   "cell_type": "code",
   "execution_count": 34,
   "metadata": {
    "collapsed": false
   },
   "outputs": [
    {
     "name": "stdout",
     "output_type": "stream",
     "text": [
      "____________________________________________________________________________________________________\n",
      "Layer (type)                     Output Shape          Param #     Connected to                     \n",
      "====================================================================================================\n",
      "input_6 (InputLayer)             (None, 1000)          0                                            \n",
      "____________________________________________________________________________________________________\n",
      "embedding_7 (Embedding)          (None, 1000, 100)     40000100    input_6[0][0]                    \n",
      "____________________________________________________________________________________________________\n",
      "convolution1d_16 (Convolution1D) (None, 996, 128)      64128       embedding_7[0][0]                \n",
      "____________________________________________________________________________________________________\n",
      "maxpooling1d_16 (MaxPooling1D)   (None, 199, 128)      0           convolution1d_16[0][0]           \n",
      "____________________________________________________________________________________________________\n",
      "convolution1d_17 (Convolution1D) (None, 195, 128)      82048       maxpooling1d_16[0][0]            \n",
      "____________________________________________________________________________________________________\n",
      "maxpooling1d_17 (MaxPooling1D)   (None, 39, 128)       0           convolution1d_17[0][0]           \n",
      "____________________________________________________________________________________________________\n",
      "convolution1d_18 (Convolution1D) (None, 35, 128)       82048       maxpooling1d_17[0][0]            \n",
      "____________________________________________________________________________________________________\n",
      "maxpooling1d_18 (MaxPooling1D)   (None, 1, 128)        0           convolution1d_18[0][0]           \n",
      "____________________________________________________________________________________________________\n",
      "flatten_6 (Flatten)              (None, 128)           0           maxpooling1d_18[0][0]            \n",
      "____________________________________________________________________________________________________\n",
      "dropout_8 (Dropout)              (None, 128)           0           flatten_6[0][0]                  \n",
      "____________________________________________________________________________________________________\n",
      "dense_11 (Dense)                 (None, 128)           16512       dropout_8[0][0]                  \n",
      "____________________________________________________________________________________________________\n",
      "dense_12 (Dense)                 (None, 20)            2580        dense_11[0][0]                   \n",
      "====================================================================================================\n",
      "Total params: 40,247,416\n",
      "Trainable params: 247,316\n",
      "Non-trainable params: 40,000,100\n",
      "____________________________________________________________________________________________________\n"
     ]
    }
   ],
   "source": [
    "# Let's check the summary of the built model\n",
    "model.summary()"
   ]
  },
  {
   "cell_type": "markdown",
   "metadata": {},
   "source": [
    "**Exercise:** Make a function `num_c1d_parms(num_inputs, num_kernels, kernel_width)` that computes the number of parameters to be adjusted within a C1D layer."
   ]
  },
  {
   "cell_type": "code",
   "execution_count": 37,
   "metadata": {
    "collapsed": false
   },
   "outputs": [
    {
     "name": "stdout",
     "output_type": "stream",
     "text": [
      "64128\n"
     ]
    }
   ],
   "source": [
    "# TODO: make the num_c1d_params(num_inputs, num_kernels, kernel_width) function and test it with some of your built layers\n",
    "def num_c1d_params(num_inputs, num_kernels, kernel_width):\n",
    "    return (num_inputs * num_kernels * kernel_width + num_kernels)\n",
    "\n",
    "print(num_c1d_params(100, 128, 5))"
   ]
  },
  {
   "cell_type": "code",
   "execution_count": 27,
   "metadata": {
    "collapsed": false,
    "deletable": true,
    "editable": true,
    "scrolled": false
   },
   "outputs": [
    {
     "name": "stdout",
     "output_type": "stream",
     "text": [
      "Train on 11314 samples, validate on 7532 samples\n",
      "Epoch 1/20\n",
      "8s - loss: 2.8982 - acc: 0.0720 - val_loss: 2.7502 - val_acc: 0.1117\n",
      "Epoch 2/20\n",
      "6s - loss: 2.6124 - acc: 0.1498 - val_loss: 2.3822 - val_acc: 0.1666\n",
      "Epoch 3/20\n",
      "6s - loss: 2.1561 - acc: 0.2279 - val_loss: 1.9577 - val_acc: 0.3125\n",
      "Epoch 4/20\n",
      "6s - loss: 1.7935 - acc: 0.3375 - val_loss: 1.7709 - val_acc: 0.3611\n",
      "Epoch 5/20\n",
      "6s - loss: 1.5216 - acc: 0.4331 - val_loss: 1.4847 - val_acc: 0.4689\n",
      "Epoch 6/20\n",
      "6s - loss: 1.2964 - acc: 0.5140 - val_loss: 1.4889 - val_acc: 0.4907\n",
      "Epoch 7/20\n",
      "6s - loss: 1.1349 - acc: 0.5871 - val_loss: 1.2433 - val_acc: 0.5761\n",
      "Epoch 8/20\n",
      "6s - loss: 0.9704 - acc: 0.6482 - val_loss: 1.1694 - val_acc: 0.6057\n",
      "Epoch 9/20\n",
      "6s - loss: 0.8289 - acc: 0.7021 - val_loss: 1.1413 - val_acc: 0.6228\n",
      "Epoch 10/20\n",
      "6s - loss: 0.7171 - acc: 0.7462 - val_loss: 1.1496 - val_acc: 0.6280\n",
      "Epoch 11/20\n",
      "6s - loss: 0.6226 - acc: 0.7770 - val_loss: 1.1057 - val_acc: 0.6510\n",
      "Epoch 12/20\n",
      "6s - loss: 0.5562 - acc: 0.7994 - val_loss: 1.1174 - val_acc: 0.6567\n",
      "Epoch 13/20\n",
      "6s - loss: 0.4913 - acc: 0.8238 - val_loss: 1.2596 - val_acc: 0.6387\n",
      "Epoch 14/20\n",
      "6s - loss: 0.4215 - acc: 0.8466 - val_loss: 1.2620 - val_acc: 0.6563\n",
      "Epoch 15/20\n",
      "6s - loss: 0.3752 - acc: 0.8604 - val_loss: 1.2460 - val_acc: 0.6633\n",
      "Epoch 16/20\n",
      "6s - loss: 0.3543 - acc: 0.8670 - val_loss: 1.3200 - val_acc: 0.6612\n",
      "Epoch 17/20\n",
      "6s - loss: 0.2978 - acc: 0.8880 - val_loss: 1.3420 - val_acc: 0.6662\n",
      "Epoch 18/20\n",
      "6s - loss: 0.2686 - acc: 0.8967 - val_loss: 1.3445 - val_acc: 0.6730\n",
      "Epoch 19/20\n",
      "6s - loss: 0.2534 - acc: 0.9010 - val_loss: 1.4115 - val_acc: 0.6636\n",
      "Epoch 20/20\n",
      "6s - loss: 0.2368 - acc: 0.9106 - val_loss: 1.4380 - val_acc: 0.6802\n"
     ]
    },
    {
     "data": {
      "image/png": "[encoded data removed]",
      "text/plain": [
       "<matplotlib.figure.Figure at 0x7f9dfea4b5d0>"
      ]
     },
     "metadata": {},
     "output_type": "display_data"
    }
   ],
   "source": [
    "# happy learning!\n",
    "his = model.fit(X_train, y_train[..., np.newaxis],\n",
    "                validation_data=(X_val, y_val[..., np.newaxis]),\n",
    "                nb_epoch=20, batch_size=200, verbose=2)\n",
    "\n",
    "plot_curves(his, 20)"
   ]
  }
 ],
 "metadata": {
  "kernelspec": {
   "display_name": "Python 2",
   "language": "python",
   "name": "python2"
  },
  "language_info": {
   "codemirror_mode": {
    "name": "ipython",
    "version": 2
   },
   "file_extension": ".py",
   "mimetype": "text/x-python",
   "name": "python",
   "nbconvert_exporter": "python",
   "pygments_lexer": "ipython2",
   "version": "2.7.6"
  }
 },
 "nbformat": 4,
 "nbformat_minor": 0
}
