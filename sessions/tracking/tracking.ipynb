{
 "cells": [
  {
   "cell_type": "markdown",
   "metadata": {
    "deletable": true,
    "editable": true
   },
   "source": [
    "# Multiple Object Tracking"
   ]
  },
  {
   "cell_type": "markdown",
   "metadata": {
    "deletable": true,
    "editable": true
   },
   "source": [
    "In this exercise we will run a tracker on top of frame detections from a video. We will use the implementation provided in [this repository](https://github.com/abewley/sort), which is instroduced in [this](https://arxiv.org/abs/1602.00763) technical report. The solution is based on a set of pre-computed bounding box detections using Faster R-CNN. It uses the Hungarian algorithm for box association based on IoU, and uses Kalman filter for tracking."
   ]
  },
  {
   "cell_type": "code",
   "execution_count": null,
   "metadata": {
    "collapsed": true,
    "deletable": true,
    "editable": true
   },
   "outputs": [],
   "source": [
    "from __future__ import print_function\n",
    "import matplotlib.pyplot as plt  \n",
    "import matplotlib.patches as patches\n",
    "%matplotlib inline\n",
    "from IPython import display as dp"
   ]
  },
  {
   "cell_type": "code",
   "execution_count": null,
   "metadata": {
    "collapsed": false,
    "deletable": true,
    "editable": true
   },
   "outputs": [],
   "source": [
    "import numpy as np\n",
    "from skimage import io\n",
    "import os\n",
    "import time"
   ]
  },
  {
   "cell_type": "markdown",
   "metadata": {
    "deletable": true,
    "editable": true
   },
   "source": [
    "Below are all the available sequences in the tracking benchmark. Let's choose one of them:"
   ]
  },
  {
   "cell_type": "code",
   "execution_count": null,
   "metadata": {
    "collapsed": true,
    "deletable": true,
    "editable": true
   },
   "outputs": [],
   "source": [
    "sequences = ['PETS09-S2L1','TUD-Campus','TUD-Stadtmitte','ETH-Bahnhof',\n",
    "            'ETH-Sunnyday','ETH-Pedcross2','KITTI-13','KITTI-17',\n",
    "            'ADL-Rundle-6','ADL-Rundle-8','Venice-2']\n",
    "s_id = 2\n",
    "seq = sequences[s_id]"
   ]
  },
  {
   "cell_type": "markdown",
   "metadata": {
    "deletable": true,
    "editable": true
   },
   "source": [
    "Let's plot the first few frames and show the detections that were previously obtained with Faster R-CNN:"
   ]
  },
  {
   "cell_type": "code",
   "execution_count": null,
   "metadata": {
    "collapsed": false,
    "deletable": true,
    "editable": true
   },
   "outputs": [],
   "source": [
    "colours = np.random.rand(32,3) #used only for display\n",
    "seq_dets = np.loadtxt('data/%s/det.txt'%(seq),delimiter=',') #load faster r-cnn detections for this sequence\n",
    "phase = 'train'\n",
    "idxs = range(1,6)\n",
    "f, axarr = plt.subplots(1, len(idxs),figsize=(20,20))\n",
    "\n",
    "for i,frame in enumerate(idxs):\n",
    "    dets = seq_dets[seq_dets[:,0]==frame,2:7] #[x1,y1,w,h]\n",
    "    fn = 'mot_benchmark/%s/%s/img1/%06d.jpg'%(phase,seq,frame)\n",
    "    im =io.imread(fn)\n",
    "    axarr[i].imshow(im)\n",
    "    axarr[i].axis('off')\n",
    "\n",
    "    for j in range(np.shape(dets)[0]):\n",
    "        color = colours[j]\n",
    "        coords = (dets[j,0],dets[j,1]), dets[j,2], dets[j,3]\n",
    "        axarr[i].add_patch(plt.Rectangle(*coords,fill=False,edgecolor=color,lw=3))"
   ]
  },
  {
   "cell_type": "markdown",
   "metadata": {
    "deletable": true,
    "editable": true
   },
   "source": [
    "We can see how almost all objects are roughly detected, but at this point there is no association between detected instances in different frames. Also, Faster R-CNN can sometimes make mistakes. What the tracker will do is to find these matches, and adjust bounding box coordinates based on tracking information."
   ]
  },
  {
   "cell_type": "markdown",
   "metadata": {
    "deletable": true,
    "editable": true
   },
   "source": [
    "We will now run the tracker on our detected frame bounding boxes and display the results frame by frame."
   ]
  },
  {
   "cell_type": "code",
   "execution_count": null,
   "metadata": {
    "collapsed": false,
    "deletable": true,
    "editable": true
   },
   "outputs": [],
   "source": [
    "from sort import Sort\n",
    "\n",
    "display = True\n",
    "total_time = 0.0\n",
    "total_frames = 0\n",
    "out = []\n",
    "\n",
    "if display:\n",
    "    plt.ion() # for iterative display\n",
    "    fig, ax = plt.subplots(1, 2,figsize=(20,20))\n",
    "\n",
    "mot_tracker = Sort() #create instance of the SORT tracker\n",
    "\n",
    "for frame in range(int(seq_dets[:,0].max())): # all frames in the sequence\n",
    "    frame += 1 #detection and frame numbers begin at 1\n",
    "    dets = seq_dets[seq_dets[:,0]==frame,2:7]   \n",
    "    \n",
    "    if (display):\n",
    "        fn = 'mot_benchmark/%s/%s/img1/%06d.jpg'%(phase,seq,frame) # read the frame\n",
    "        im =io.imread(fn)\n",
    "        ax[0].imshow(im)\n",
    "        ax[0].axis('off')\n",
    "        ax[0].set_title('Original Faster R-CNN detections')\n",
    "        for j in range(np.shape(dets)[0]):\n",
    "            color = colours[j]\n",
    "            coords = (dets[j,0],dets[j,1]), dets[j,2], dets[j,3]\n",
    "            ax[0].add_patch(plt.Rectangle(*coords,fill=False,edgecolor=color,lw=3))\n",
    "            \n",
    "    dets[:,2:4] += dets[:,0:2] #convert to [x1,y1,w,h] to [x1,y1,x2,y2] for the tracker input\n",
    "    total_frames += 1\n",
    "\n",
    "    if(display):\n",
    "        ax[1].imshow(im)\n",
    "        ax[1].axis('off')\n",
    "        ax[1].set_title('Tracked Targets')\n",
    "\n",
    "    start_time = time.time()\n",
    "    trackers = mot_tracker.update(dets)\n",
    "    cycle_time = time.time() - start_time\n",
    "    total_time += cycle_time\n",
    "    \n",
    "    out.append(trackers)\n",
    "    for d in trackers:\n",
    "        if(display):\n",
    "            d = d.astype(np.uint32)\n",
    "            ax[1].add_patch(patches.Rectangle((d[0],d[1]),d[2]-d[0],d[3]-d[1],fill=False,lw=3,ec=colours[d[4]%32,:]))\n",
    "            ax[1].set_adjustable('box-forced')\n",
    "\n",
    "    if(display):\n",
    "        dp.clear_output(wait=True)\n",
    "        dp.display(plt.gcf())\n",
    "        time.sleep(1.0)\n",
    "        ax[0].cla()\n",
    "        ax[1].cla()\n",
    "\n",
    "print(\"Total Tracking took: %.3f for %d frames or %.1f FPS\"%(total_time,total_frames,total_frames/total_time))"
   ]
  },
  {
   "cell_type": "markdown",
   "metadata": {
    "collapsed": true,
    "deletable": true,
    "editable": true
   },
   "source": [
    "Note that the process is very slow because we are plotting the results at each time. If we run the same code with ```display=False``` it will be much faster."
   ]
  },
  {
   "cell_type": "markdown",
   "metadata": {
    "deletable": true,
    "editable": true
   },
   "source": [
    "Let's take a look at the output generated for each frame:"
   ]
  },
  {
   "cell_type": "code",
   "execution_count": null,
   "metadata": {
    "collapsed": false,
    "deletable": true,
    "editable": true
   },
   "outputs": [],
   "source": [
    "print (out[0])\n",
    "print (out[1])"
   ]
  },
  {
   "cell_type": "markdown",
   "metadata": {
    "deletable": true,
    "editable": true
   },
   "source": [
    "The first 4 dimensions give the coordinates of the bounding box, and the fifth one gives the ID of the detected instance. If we print the results for different frames, we will see how some instances disappear, and new ones are created.\n",
    "\n",
    "**Exercise:** Try to run the tracker on the different sequences provided in the benchmark. \n",
    "\n",
    "**Exercise:** If you feel adventurous, you can try to run this code on the video frames from the previous lab, using the detections obtained with SSD."
   ]
  }
 ],
 "metadata": {
  "kernelspec": {
   "display_name": "Python 2",
   "language": "python",
   "name": "python2"
  },
  "language_info": {
   "codemirror_mode": {
    "name": "ipython",
    "version": 2
   },
   "file_extension": ".py",
   "mimetype": "text/x-python",
   "name": "python",
   "nbconvert_exporter": "python",
   "pygments_lexer": "ipython2",
   "version": "2.7.9"
  }
 },
 "nbformat": 4,
 "nbformat_minor": 2
}
