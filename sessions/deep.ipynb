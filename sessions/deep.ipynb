{
 "cells": [
  {
   "cell_type": "markdown",
   "metadata": {
    "deletable": true,
    "editable": true
   },
   "source": [
    "# Deep Networks"
   ]
  },
  {
   "cell_type": "markdown",
   "metadata": {
    "deletable": true,
    "editable": true
   },
   "source": [
    "In the last exercise we finished with a simple single layer MLP with softmax for multiclass classification. In this session we will design deep models and observe their performance. To do this, we will use the [Keras API](https://keras.io/) with tensorflow, which will allow us to design, train and evaluate simple models much faster and with fewer lines of code."
   ]
  },
  {
   "cell_type": "code",
   "execution_count": 1,
   "metadata": {
    "collapsed": false,
    "deletable": true,
    "editable": true
   },
   "outputs": [
    {
     "name": "stderr",
     "output_type": "stream",
     "text": [
      "Using TensorFlow backend.\n"
     ]
    }
   ],
   "source": [
    "import matplotlib.pyplot as plt  \n",
    "%matplotlib inline\n",
    "from utils import plot_samples, plot_curves\n",
    "import time"
   ]
  },
  {
   "cell_type": "code",
   "execution_count": 2,
   "metadata": {
    "collapsed": false,
    "deletable": true,
    "editable": true
   },
   "outputs": [],
   "source": [
    "import numpy as np\n",
    "# force random seed for results to be reproducible\n",
    "SEED = 4242\n",
    "np.random.seed(SEED)"
   ]
  },
  {
   "cell_type": "markdown",
   "metadata": {
    "deletable": true,
    "editable": true
   },
   "source": [
    "Before building deep networks, let's first train the same architecture as the one in the previous exercise, this time using keras. \n",
    "\n",
    "Let's begin by loading the MNIST dataset: "
   ]
  },
  {
   "cell_type": "code",
   "execution_count": 3,
   "metadata": {
    "collapsed": false,
    "deletable": true,
    "editable": true
   },
   "outputs": [
    {
     "data": {
      "text/plain": [
       "(60000, 28, 28)"
      ]
     },
     "execution_count": 3,
     "metadata": {},
     "output_type": "execute_result"
    },
    {
     "data": {
      "image/png": "[encoded data removed]",
      "text/plain": [
       "<matplotlib.figure.Figure at 0x7fec40d63110>"
      ]
     },
     "metadata": {},
     "output_type": "display_data"
    }
   ],
   "source": [
    "from keras.datasets import mnist\n",
    "from keras.utils import np_utils\n",
    "\n",
    "# Load pre-shuffled MNIST data into train and test sets\n",
    "(X_train, y_train), (X_test, y_test) = mnist.load_data()\n",
    "# Display some of the samples\n",
    "plot_samples(X_train)\n",
    "X_train.shape"
   ]
  },
  {
   "cell_type": "markdown",
   "metadata": {
    "deletable": true,
    "editable": true
   },
   "source": [
    "We flatten and normalize images:"
   ]
  },
  {
   "cell_type": "code",
   "execution_count": 4,
   "metadata": {
    "collapsed": true,
    "deletable": true,
    "editable": true
   },
   "outputs": [],
   "source": [
    "X_train = X_train.reshape(60000, 784)\n",
    "X_test = X_test.reshape(10000, 784)\n",
    "X_train = X_train.astype('float32')\n",
    "X_test = X_test.astype('float32')\n",
    "X_train /= 255\n",
    "X_test /= 255"
   ]
  },
  {
   "cell_type": "markdown",
   "metadata": {
    "deletable": true,
    "editable": true
   },
   "source": [
    "Categories need to be converted to one-hot vectors for training:"
   ]
  },
  {
   "cell_type": "code",
   "execution_count": 5,
   "metadata": {
    "collapsed": false,
    "deletable": true,
    "editable": true
   },
   "outputs": [
    {
     "data": {
      "text/plain": [
       "(array([5, 0, 4, ..., 5, 6, 8], dtype=uint8),\n",
       " array([[ 0.,  0.,  0., ...,  0.,  0.,  0.],\n",
       "        [ 1.,  0.,  0., ...,  0.,  0.,  0.],\n",
       "        [ 0.,  0.,  0., ...,  0.,  0.,  0.],\n",
       "        ..., \n",
       "        [ 0.,  0.,  0., ...,  0.,  0.,  0.],\n",
       "        [ 0.,  0.,  0., ...,  0.,  0.,  0.],\n",
       "        [ 0.,  0.,  0., ...,  0.,  1.,  0.]]))"
      ]
     },
     "execution_count": 5,
     "metadata": {},
     "output_type": "execute_result"
    }
   ],
   "source": [
    "nb_classes = 10\n",
    "Y_train = np_utils.to_categorical(y_train, nb_classes)\n",
    "Y_test = np_utils.to_categorical(y_test, nb_classes)\n",
    "y_train, Y_train"
   ]
  },
  {
   "cell_type": "markdown",
   "metadata": {
    "deletable": true,
    "editable": true
   },
   "source": [
    "Now let's write the model from the previous exercise in Keras:"
   ]
  },
  {
   "cell_type": "code",
   "execution_count": 6,
   "metadata": {
    "collapsed": false,
    "deletable": true,
    "editable": true
   },
   "outputs": [
    {
     "name": "stdout",
     "output_type": "stream",
     "text": [
      "____________________________________________________________________________________________________\n",
      "Layer (type)                     Output Shape          Param #     Connected to                     \n",
      "====================================================================================================\n",
      "dense_1 (Dense)                  (None, 10)            7850        dense_input_1[0][0]              \n",
      "____________________________________________________________________________________________________\n",
      "activation_1 (Activation)        (None, 10)            0           dense_1[0][0]                    \n",
      "====================================================================================================\n",
      "Total params: 7,850\n",
      "Trainable params: 7,850\n",
      "Non-trainable params: 0\n",
      "____________________________________________________________________________________________________\n"
     ]
    }
   ],
   "source": [
    "from keras.models import Sequential\n",
    "from keras.layers import Dense, Activation\n",
    "\n",
    "model = Sequential()\n",
    "# in the first layer we need to specify the input shape\n",
    "model.add(Dense(10, input_shape=(784,)))\n",
    "model.add(Activation('softmax'))\n",
    "\n",
    "model.summary()"
   ]
  },
  {
   "cell_type": "markdown",
   "metadata": {
    "deletable": true,
    "editable": true
   },
   "source": [
    "**Exercise**: ```model.summary()``` gave us the total number of trainable parameters of our model. How is this number obtained? "
   ]
  },
  {
   "cell_type": "markdown",
   "metadata": {
    "deletable": true,
    "editable": true
   },
   "source": [
    "**Answer**: Number of parameters: 10*784 + 10"
   ]
  },
  {
   "cell_type": "markdown",
   "metadata": {
    "deletable": true,
    "editable": true
   },
   "source": [
    "We are now ready to train. Let's define the optimizer:"
   ]
  },
  {
   "cell_type": "code",
   "execution_count": 7,
   "metadata": {
    "collapsed": true,
    "deletable": true,
    "editable": true
   },
   "outputs": [],
   "source": [
    "from keras.optimizers import SGD\n",
    "lr = 0.01\n",
    "# For now we will not decrease the learning rate\n",
    "decay = 0\n",
    "\n",
    "optim = SGD(lr=lr, decay=decay, momentum=0.9, nesterov=True)"
   ]
  },
  {
   "cell_type": "markdown",
   "metadata": {
    "deletable": true,
    "editable": true
   },
   "source": [
    "In Keras, we need to compile the model to define the loss and the optimizer we want to use. Since we are dealing with a classification problem, we will use the cross entropy loss, which is already defined in keras. Additionally, we will incorporate the accuracy as an additional metric to compute at the end of each epoch:"
   ]
  },
  {
   "cell_type": "code",
   "execution_count": 8,
   "metadata": {
    "collapsed": false,
    "deletable": true,
    "editable": true
   },
   "outputs": [],
   "source": [
    "model.compile(loss='categorical_crossentropy',\n",
    "              optimizer=optim,\n",
    "              metrics=['accuracy'])"
   ]
  },
  {
   "cell_type": "markdown",
   "metadata": {
    "deletable": true,
    "editable": true
   },
   "source": [
    "Now let's train the model. ```model.fit()``` will do the training loop for us. We just need to pass the training data ```X_train``` and labels ```Y_train``` as input, specify the ```batch_size``` and the number of epochs ```nb_epoch``` we want to do. We also pass the test set ```(X_test,Y_Test)``` as validation data, which will allow us to see how the model performs on the test data as training progresses. Let's run it:"
   ]
  },
  {
   "cell_type": "code",
   "execution_count": 9,
   "metadata": {
    "collapsed": false,
    "deletable": true,
    "editable": true
   },
   "outputs": [
    {
     "name": "stdout",
     "output_type": "stream",
     "text": [
      "Train on 60000 samples, validate on 10000 samples\n",
      "Epoch 1/30\n",
      "1s - loss: 0.5890 - acc: 0.8459 - val_loss: 0.3800 - val_acc: 0.8991\n",
      "Epoch 2/30\n",
      "1s - loss: 0.3746 - acc: 0.8966 - val_loss: 0.3359 - val_acc: 0.9095\n",
      "Epoch 3/30\n",
      "1s - loss: 0.3429 - acc: 0.9050 - val_loss: 0.3164 - val_acc: 0.9135\n",
      "Epoch 4/30\n",
      "1s - loss: 0.3264 - acc: 0.9091 - val_loss: 0.3056 - val_acc: 0.9159\n",
      "Epoch 5/30\n",
      "1s - loss: 0.3159 - acc: 0.9119 - val_loss: 0.2992 - val_acc: 0.9168\n",
      "Epoch 6/30\n",
      "1s - loss: 0.3079 - acc: 0.9136 - val_loss: 0.2942 - val_acc: 0.9180\n",
      "Epoch 7/30\n",
      "1s - loss: 0.3024 - acc: 0.9157 - val_loss: 0.2902 - val_acc: 0.9188\n",
      "Epoch 8/30\n",
      "1s - loss: 0.2974 - acc: 0.9170 - val_loss: 0.2881 - val_acc: 0.9194\n",
      "Epoch 9/30\n",
      "1s - loss: 0.2936 - acc: 0.9181 - val_loss: 0.2843 - val_acc: 0.9206\n",
      "Epoch 10/30\n",
      "1s - loss: 0.2905 - acc: 0.9189 - val_loss: 0.2824 - val_acc: 0.9215\n",
      "Epoch 11/30\n",
      "1s - loss: 0.2874 - acc: 0.9201 - val_loss: 0.2811 - val_acc: 0.9222\n",
      "Epoch 12/30\n",
      "1s - loss: 0.2851 - acc: 0.9202 - val_loss: 0.2794 - val_acc: 0.9220\n",
      "Epoch 13/30\n",
      "1s - loss: 0.2831 - acc: 0.9211 - val_loss: 0.2792 - val_acc: 0.9221\n",
      "Epoch 14/30\n",
      "1s - loss: 0.2812 - acc: 0.9216 - val_loss: 0.2772 - val_acc: 0.9239\n",
      "Epoch 15/30\n",
      "1s - loss: 0.2794 - acc: 0.9226 - val_loss: 0.2782 - val_acc: 0.9231\n",
      "Epoch 16/30\n",
      "1s - loss: 0.2777 - acc: 0.9229 - val_loss: 0.2751 - val_acc: 0.9223\n",
      "Epoch 17/30\n",
      "1s - loss: 0.2764 - acc: 0.9232 - val_loss: 0.2749 - val_acc: 0.9217\n",
      "Epoch 18/30\n",
      "1s - loss: 0.2750 - acc: 0.9236 - val_loss: 0.2757 - val_acc: 0.9221\n",
      "Epoch 19/30\n",
      "1s - loss: 0.2740 - acc: 0.9239 - val_loss: 0.2739 - val_acc: 0.9234\n",
      "Epoch 20/30\n",
      "1s - loss: 0.2727 - acc: 0.9251 - val_loss: 0.2713 - val_acc: 0.9231\n",
      "Epoch 21/30\n",
      "1s - loss: 0.2717 - acc: 0.9243 - val_loss: 0.2715 - val_acc: 0.9239\n",
      "Epoch 22/30\n",
      "1s - loss: 0.2706 - acc: 0.9250 - val_loss: 0.2718 - val_acc: 0.9236\n",
      "Epoch 23/30\n",
      "1s - loss: 0.2696 - acc: 0.9252 - val_loss: 0.2732 - val_acc: 0.9231\n",
      "Epoch 24/30\n",
      "1s - loss: 0.2688 - acc: 0.9257 - val_loss: 0.2717 - val_acc: 0.9243\n",
      "Epoch 25/30\n",
      "1s - loss: 0.2679 - acc: 0.9256 - val_loss: 0.2712 - val_acc: 0.9235\n",
      "Epoch 26/30\n",
      "1s - loss: 0.2673 - acc: 0.9258 - val_loss: 0.2705 - val_acc: 0.9220\n",
      "Epoch 27/30\n",
      "1s - loss: 0.2666 - acc: 0.9261 - val_loss: 0.2694 - val_acc: 0.9236\n",
      "Epoch 28/30\n",
      "1s - loss: 0.2656 - acc: 0.9264 - val_loss: 0.2696 - val_acc: 0.9230\n",
      "Epoch 29/30\n",
      "1s - loss: 0.2649 - acc: 0.9264 - val_loss: 0.2689 - val_acc: 0.9247\n",
      "Epoch 30/30\n",
      "1s - loss: 0.2643 - acc: 0.9268 - val_loss: 0.2700 - val_acc: 0.9239\n",
      "(43.316612005233765, 'seconds.')\n"
     ]
    }
   ],
   "source": [
    "batch_size = 128\n",
    "nb_epoch = 30\n",
    "verbose = 2\n",
    "\n",
    "t = time.time()\n",
    "# 30 seconds for 20 epochs on GeForce GTX 980\n",
    "history = model.fit(X_train, Y_train,\n",
    "                batch_size=batch_size, nb_epoch=nb_epoch,\n",
    "                verbose=verbose,validation_data=(X_test, Y_test))\n",
    "\n",
    "print (time.time() - t, \"seconds.\")"
   ]
  },
  {
   "cell_type": "markdown",
   "metadata": {
    "deletable": true,
    "editable": true
   },
   "source": [
    "We can plot the loss and accuracy curves with the ```history``` object returned by ```model.fit()```. The function ````plot_curves```, which is defined in ```utils.py``` will do this for us."
   ]
  },
  {
   "cell_type": "code",
   "execution_count": 10,
   "metadata": {
    "collapsed": false,
    "deletable": true,
    "editable": true
   },
   "outputs": [
    {
     "data": {
      "image/png": "[encoded data removed]",
      "text/plain": [
       "<matplotlib.figure.Figure at 0x7febbee04850>"
      ]
     },
     "metadata": {},
     "output_type": "display_data"
    }
   ],
   "source": [
    "plot_curves(history,nb_epoch)"
   ]
  },
  {
   "cell_type": "markdown",
   "metadata": {
    "deletable": true,
    "editable": true
   },
   "source": [
    "The curve trend indicates that the model may be able to improve if we train it for longer, but for now let's leave it here.\n",
    "\n",
    "Let's now evaluate our model. ```model.evaluate()``` will take all the test samples, forward them through the network and return the average loss, and any additional metrics we specified (in our case, the accuracy)."
   ]
  },
  {
   "cell_type": "code",
   "execution_count": 11,
   "metadata": {
    "collapsed": false,
    "deletable": true,
    "editable": true
   },
   "outputs": [
    {
     "name": "stdout",
     "output_type": "stream",
     "text": [
      "Loss: 0.269971\n",
      "Accuracy: 0.923900\n"
     ]
    }
   ],
   "source": [
    "score = model.evaluate(X_test, Y_test, verbose=0)\n",
    "print (\"Loss: %f\"%(score[0]))\n",
    "print (\"Accuracy: %f\"%(score[1]))"
   ]
  },
  {
   "cell_type": "markdown",
   "metadata": {
    "deletable": true,
    "editable": true
   },
   "source": [
    "We reach an accuracy of 92%, which is similar to the one we obtained in the previous exercise."
   ]
  },
  {
   "cell_type": "markdown",
   "metadata": {
    "collapsed": true,
    "deletable": true,
    "editable": true
   },
   "source": [
    "## Single hidden layer"
   ]
  },
  {
   "cell_type": "markdown",
   "metadata": {
    "collapsed": true,
    "deletable": true,
    "editable": true
   },
   "source": [
    "Let's try to train a model with a hidden layer between the input and the classifier. \n",
    "\n",
    "**Exercise**: Modify the previous architecture to include this layer with 128 neurons. Make sure to use a non-linearity between the two layers (e.g. ReLU). Also remember that, in keras, the ```input_shape``` must be passed to the first layer of the network. "
   ]
  },
  {
   "cell_type": "code",
   "execution_count": 12,
   "metadata": {
    "collapsed": false,
    "deletable": true,
    "editable": true
   },
   "outputs": [
    {
     "name": "stdout",
     "output_type": "stream",
     "text": [
      "____________________________________________________________________________________________________\n",
      "Layer (type)                     Output Shape          Param #     Connected to                     \n",
      "====================================================================================================\n",
      "dense_2 (Dense)                  (None, 128)           100480      dense_input_2[0][0]              \n",
      "____________________________________________________________________________________________________\n",
      "activation_2 (Activation)        (None, 128)           0           dense_2[0][0]                    \n",
      "____________________________________________________________________________________________________\n",
      "dense_3 (Dense)                  (None, 10)            1290        activation_2[0][0]               \n",
      "____________________________________________________________________________________________________\n",
      "activation_3 (Activation)        (None, 10)            0           dense_3[0][0]                    \n",
      "====================================================================================================\n",
      "Total params: 101,770\n",
      "Trainable params: 101,770\n",
      "Non-trainable params: 0\n",
      "____________________________________________________________________________________________________\n"
     ]
    }
   ],
   "source": [
    "import numpy as np\n",
    "np.random.seed(SEED)\n",
    "\n",
    "# MODEL DEFINITION\n",
    "model = Sequential()\n",
    "\n",
    "model.add(Dense(128, input_shape=(784,)))\n",
    "model.add(Activation('relu'))\n",
    "model.add(Dense(10))\n",
    "model.add(Activation('softmax'))\n",
    "\n",
    "model.summary()"
   ]
  },
  {
   "cell_type": "markdown",
   "metadata": {
    "deletable": true,
    "editable": true
   },
   "source": [
    "**Exercise**: Compute the number of parameters and check if they match the ones given by ```model.summary()```"
   ]
  },
  {
   "cell_type": "markdown",
   "metadata": {
    "deletable": true,
    "editable": true
   },
   "source": [
    "**Answer**:"
   ]
  },
  {
   "cell_type": "code",
   "execution_count": 13,
   "metadata": {
    "collapsed": false,
    "deletable": true,
    "editable": true
   },
   "outputs": [
    {
     "data": {
      "text/plain": [
       "101770"
      ]
     },
     "execution_count": 13,
     "metadata": {},
     "output_type": "execute_result"
    }
   ],
   "source": [
    "in_dim = 784\n",
    "hidden_dim = 128\n",
    "cls_dim = 10\n",
    "\n",
    "hidden_dim*in_dim + hidden_dim + hidden_dim*cls_dim+cls_dim"
   ]
  },
  {
   "cell_type": "markdown",
   "metadata": {},
   "source": [
    "Let's train the model you just defined. Notice that the compilation and training code did not change at all:"
   ]
  },
  {
   "cell_type": "code",
   "execution_count": 14,
   "metadata": {
    "collapsed": false,
    "deletable": true,
    "editable": true
   },
   "outputs": [
    {
     "name": "stdout",
     "output_type": "stream",
     "text": [
      "Train on 60000 samples, validate on 10000 samples\n",
      "Epoch 1/30\n",
      "1s - loss: 0.4914 - acc: 0.8648 - val_loss: 0.2769 - val_acc: 0.9223\n",
      "Epoch 2/30\n",
      "1s - loss: 0.2607 - acc: 0.9264 - val_loss: 0.2209 - val_acc: 0.9395\n",
      "Epoch 3/30\n",
      "1s - loss: 0.2096 - acc: 0.9417 - val_loss: 0.1839 - val_acc: 0.9471\n",
      "Epoch 4/30\n",
      "1s - loss: 0.1771 - acc: 0.9500 - val_loss: 0.1625 - val_acc: 0.9551\n",
      "Epoch 5/30\n",
      "1s - loss: 0.1540 - acc: 0.9564 - val_loss: 0.1436 - val_acc: 0.9599\n",
      "Epoch 6/30\n",
      "1s - loss: 0.1362 - acc: 0.9619 - val_loss: 0.1329 - val_acc: 0.9615\n",
      "Epoch 7/30\n",
      "1s - loss: 0.1226 - acc: 0.9660 - val_loss: 0.1244 - val_acc: 0.9645\n",
      "Epoch 8/30\n",
      "1s - loss: 0.1111 - acc: 0.9696 - val_loss: 0.1167 - val_acc: 0.9652\n",
      "Epoch 9/30\n",
      "1s - loss: 0.1020 - acc: 0.9719 - val_loss: 0.1104 - val_acc: 0.9669\n",
      "Epoch 10/30\n",
      "1s - loss: 0.0945 - acc: 0.9740 - val_loss: 0.1044 - val_acc: 0.9697\n",
      "Epoch 11/30\n",
      "1s - loss: 0.0879 - acc: 0.9762 - val_loss: 0.0989 - val_acc: 0.9700\n",
      "Epoch 12/30\n",
      "1s - loss: 0.0819 - acc: 0.9776 - val_loss: 0.0932 - val_acc: 0.9720\n",
      "Epoch 13/30\n",
      "1s - loss: 0.0765 - acc: 0.9794 - val_loss: 0.0930 - val_acc: 0.9724\n",
      "Epoch 14/30\n",
      "1s - loss: 0.0717 - acc: 0.9808 - val_loss: 0.0920 - val_acc: 0.9725\n",
      "Epoch 15/30\n",
      "1s - loss: 0.0678 - acc: 0.9817 - val_loss: 0.0867 - val_acc: 0.9737\n",
      "Epoch 16/30\n",
      "1s - loss: 0.0640 - acc: 0.9825 - val_loss: 0.0856 - val_acc: 0.9740\n",
      "Epoch 17/30\n",
      "1s - loss: 0.0606 - acc: 0.9839 - val_loss: 0.0830 - val_acc: 0.9749\n",
      "Epoch 18/30\n",
      "1s - loss: 0.0570 - acc: 0.9845 - val_loss: 0.0808 - val_acc: 0.9748\n",
      "Epoch 19/30\n",
      "1s - loss: 0.0546 - acc: 0.9854 - val_loss: 0.0816 - val_acc: 0.9743\n",
      "Epoch 20/30\n",
      "1s - loss: 0.0517 - acc: 0.9863 - val_loss: 0.0792 - val_acc: 0.9760\n",
      "Epoch 21/30\n",
      "1s - loss: 0.0491 - acc: 0.9871 - val_loss: 0.0774 - val_acc: 0.9770\n",
      "Epoch 22/30\n",
      "1s - loss: 0.0470 - acc: 0.9877 - val_loss: 0.0785 - val_acc: 0.9765\n",
      "Epoch 23/30\n",
      "1s - loss: 0.0446 - acc: 0.9885 - val_loss: 0.0772 - val_acc: 0.9756\n",
      "Epoch 24/30\n",
      "1s - loss: 0.0427 - acc: 0.9893 - val_loss: 0.0748 - val_acc: 0.9761\n",
      "Epoch 25/30\n",
      "1s - loss: 0.0410 - acc: 0.9894 - val_loss: 0.0739 - val_acc: 0.9765\n",
      "Epoch 26/30\n",
      "1s - loss: 0.0389 - acc: 0.9902 - val_loss: 0.0744 - val_acc: 0.9759\n",
      "Epoch 27/30\n",
      "1s - loss: 0.0373 - acc: 0.9906 - val_loss: 0.0734 - val_acc: 0.9774\n",
      "Epoch 28/30\n",
      "1s - loss: 0.0358 - acc: 0.9913 - val_loss: 0.0728 - val_acc: 0.9773\n",
      "Epoch 29/30\n",
      "1s - loss: 0.0344 - acc: 0.9918 - val_loss: 0.0739 - val_acc: 0.9767\n",
      "Epoch 30/30\n",
      "1s - loss: 0.0330 - acc: 0.9923 - val_loss: 0.0717 - val_acc: 0.9766\n",
      "(46.25497794151306, 'seconds.')\n",
      "----------\n",
      "Loss: 0.071659\n",
      "Accuracy: 0.976600\n"
     ]
    },
    {
     "data": {
      "image/png": "[encoded data removed]",
      "text/plain": [
       "<matplotlib.figure.Figure at 0x7febca3105d0>"
      ]
     },
     "metadata": {},
     "output_type": "display_data"
    }
   ],
   "source": [
    "# COMPILE & TRAIN\n",
    "model.compile(loss='categorical_crossentropy',\n",
    "              optimizer=optim,\n",
    "              metrics=['accuracy'])\n",
    "\n",
    "t = time.time()\n",
    "history = model.fit(X_train, Y_train,\n",
    "                batch_size=batch_size, nb_epoch=nb_epoch,\n",
    "                verbose=2,validation_data=(X_test, Y_test))\n",
    "print (time.time() - t, \"seconds.\")\n",
    "\n",
    "score = model.evaluate(X_test, Y_test, verbose=0)\n",
    "print (\"-\"*10)\n",
    "print (\"Loss: %f\"%(score[0]))\n",
    "print (\"Accuracy: %f\"%(score[1]))\n",
    "plot_curves(history,nb_epoch)"
   ]
  },
  {
   "cell_type": "markdown",
   "metadata": {
    "deletable": true,
    "editable": true
   },
   "source": [
    "So, adding a hidden layer pushed the accuracy from 0.92 to almost 0.98. Of course the number of parameters has increased significantly. "
   ]
  },
  {
   "cell_type": "markdown",
   "metadata": {
    "deletable": true,
    "editable": true
   },
   "source": [
    "## Going deep"
   ]
  },
  {
   "cell_type": "markdown",
   "metadata": {
    "deletable": true,
    "editable": true
   },
   "source": [
    "Can we keep adding layers just like that and get better and better accuracy? \n",
    "\n",
    "**Exercise**: Design and train network with 6 hidden layers with 128 neurons + classifier."
   ]
  },
  {
   "cell_type": "code",
   "execution_count": 15,
   "metadata": {
    "collapsed": false,
    "deletable": true,
    "editable": true
   },
   "outputs": [
    {
     "name": "stdout",
     "output_type": "stream",
     "text": [
      "____________________________________________________________________________________________________\n",
      "Layer (type)                     Output Shape          Param #     Connected to                     \n",
      "====================================================================================================\n",
      "dense_4 (Dense)                  (None, 128)           100480      dense_input_3[0][0]              \n",
      "____________________________________________________________________________________________________\n",
      "activation_4 (Activation)        (None, 128)           0           dense_4[0][0]                    \n",
      "____________________________________________________________________________________________________\n",
      "dense_5 (Dense)                  (None, 128)           16512       activation_4[0][0]               \n",
      "____________________________________________________________________________________________________\n",
      "activation_5 (Activation)        (None, 128)           0           dense_5[0][0]                    \n",
      "____________________________________________________________________________________________________\n",
      "dense_6 (Dense)                  (None, 128)           16512       activation_5[0][0]               \n",
      "____________________________________________________________________________________________________\n",
      "activation_6 (Activation)        (None, 128)           0           dense_6[0][0]                    \n",
      "____________________________________________________________________________________________________\n",
      "dense_7 (Dense)                  (None, 128)           16512       activation_6[0][0]               \n",
      "____________________________________________________________________________________________________\n",
      "activation_7 (Activation)        (None, 128)           0           dense_7[0][0]                    \n",
      "____________________________________________________________________________________________________\n",
      "dense_8 (Dense)                  (None, 128)           16512       activation_7[0][0]               \n",
      "____________________________________________________________________________________________________\n",
      "activation_8 (Activation)        (None, 128)           0           dense_8[0][0]                    \n",
      "____________________________________________________________________________________________________\n",
      "dense_9 (Dense)                  (None, 128)           16512       activation_8[0][0]               \n",
      "____________________________________________________________________________________________________\n",
      "activation_9 (Activation)        (None, 128)           0           dense_9[0][0]                    \n",
      "____________________________________________________________________________________________________\n",
      "dense_10 (Dense)                 (None, 10)            1290        activation_9[0][0]               \n",
      "____________________________________________________________________________________________________\n",
      "activation_10 (Activation)       (None, 10)            0           dense_10[0][0]                   \n",
      "====================================================================================================\n",
      "Total params: 184,330\n",
      "Trainable params: 184,330\n",
      "Non-trainable params: 0\n",
      "____________________________________________________________________________________________________\n"
     ]
    }
   ],
   "source": [
    "import numpy as np\n",
    "np.random.seed(SEED)\n",
    "\n",
    "H_DIM = 128\n",
    "model = Sequential()\n",
    "model.add(Dense(H_DIM, input_shape=(784,)))\n",
    "model.add(Activation('relu'))\n",
    "for i in range(5):\n",
    "    model.add(Dense(H_DIM))\n",
    "    model.add(Activation('relu'))\n",
    "model.add(Dense(10))\n",
    "model.add(Activation('softmax'))\n",
    "\n",
    "model.summary()"
   ]
  },
  {
   "cell_type": "code",
   "execution_count": 16,
   "metadata": {
    "collapsed": false,
    "deletable": true,
    "editable": true
   },
   "outputs": [
    {
     "name": "stdout",
     "output_type": "stream",
     "text": [
      "Train on 60000 samples, validate on 10000 samples\n",
      "Epoch 1/30\n",
      "2s - loss: 0.5982 - acc: 0.8105 - val_loss: 0.2116 - val_acc: 0.9339\n",
      "Epoch 2/30\n",
      "2s - loss: 0.1566 - acc: 0.9532 - val_loss: 0.1397 - val_acc: 0.9566\n",
      "Epoch 3/30\n",
      "1s - loss: 0.1110 - acc: 0.9664 - val_loss: 0.1134 - val_acc: 0.9634\n",
      "Epoch 4/30\n",
      "1s - loss: 0.0852 - acc: 0.9744 - val_loss: 0.0934 - val_acc: 0.9712\n",
      "Epoch 5/30\n",
      "2s - loss: 0.0693 - acc: 0.9796 - val_loss: 0.0961 - val_acc: 0.9700\n",
      "Epoch 6/30\n",
      "1s - loss: 0.0569 - acc: 0.9829 - val_loss: 0.0870 - val_acc: 0.9729\n",
      "Epoch 7/30\n",
      "2s - loss: 0.0475 - acc: 0.9849 - val_loss: 0.0926 - val_acc: 0.9697\n",
      "Epoch 8/30\n",
      "2s - loss: 0.0391 - acc: 0.9878 - val_loss: 0.0898 - val_acc: 0.9748\n",
      "Epoch 9/30\n",
      "1s - loss: 0.0337 - acc: 0.9892 - val_loss: 0.0977 - val_acc: 0.9710\n",
      "Epoch 10/30\n",
      "2s - loss: 0.0271 - acc: 0.9915 - val_loss: 0.0908 - val_acc: 0.9751\n",
      "Epoch 11/30\n",
      "1s - loss: 0.0259 - acc: 0.9913 - val_loss: 0.0890 - val_acc: 0.9774\n",
      "Epoch 12/30\n",
      "2s - loss: 0.0202 - acc: 0.9936 - val_loss: 0.0983 - val_acc: 0.9737\n",
      "Epoch 13/30\n",
      "2s - loss: 0.0194 - acc: 0.9937 - val_loss: 0.0960 - val_acc: 0.9741\n",
      "Epoch 14/30\n",
      "1s - loss: 0.0178 - acc: 0.9938 - val_loss: 0.0958 - val_acc: 0.9752\n",
      "Epoch 15/30\n",
      "2s - loss: 0.0158 - acc: 0.9949 - val_loss: 0.0928 - val_acc: 0.9774\n",
      "Epoch 16/30\n",
      "1s - loss: 0.0124 - acc: 0.9963 - val_loss: 0.1126 - val_acc: 0.9747\n",
      "Epoch 17/30\n",
      "2s - loss: 0.0139 - acc: 0.9954 - val_loss: 0.0975 - val_acc: 0.9778\n",
      "Epoch 18/30\n",
      "2s - loss: 0.0113 - acc: 0.9962 - val_loss: 0.1117 - val_acc: 0.9740\n",
      "Epoch 19/30\n",
      "1s - loss: 0.0114 - acc: 0.9965 - val_loss: 0.1061 - val_acc: 0.9763\n",
      "Epoch 20/30\n",
      "2s - loss: 0.0086 - acc: 0.9972 - val_loss: 0.1191 - val_acc: 0.9757\n",
      "Epoch 21/30\n",
      "1s - loss: 0.0080 - acc: 0.9974 - val_loss: 0.1118 - val_acc: 0.9780\n",
      "Epoch 22/30\n",
      "2s - loss: 0.0052 - acc: 0.9985 - val_loss: 0.0988 - val_acc: 0.9812\n",
      "Epoch 23/30\n",
      "2s - loss: 0.0064 - acc: 0.9980 - val_loss: 0.1160 - val_acc: 0.9768\n",
      "Epoch 24/30\n",
      "1s - loss: 0.0072 - acc: 0.9976 - val_loss: 0.1152 - val_acc: 0.9762\n",
      "Epoch 25/30\n",
      "2s - loss: 0.0088 - acc: 0.9970 - val_loss: 0.1227 - val_acc: 0.9754\n",
      "Epoch 26/30\n",
      "1s - loss: 0.0086 - acc: 0.9970 - val_loss: 0.1112 - val_acc: 0.9772\n",
      "Epoch 27/30\n",
      "2s - loss: 0.0071 - acc: 0.9975 - val_loss: 0.1131 - val_acc: 0.9773\n",
      "Epoch 28/30\n",
      "2s - loss: 0.0050 - acc: 0.9985 - val_loss: 0.1196 - val_acc: 0.9779\n",
      "Epoch 29/30\n",
      "1s - loss: 0.0086 - acc: 0.9970 - val_loss: 0.1093 - val_acc: 0.9773\n",
      "Epoch 30/30\n",
      "2s - loss: 0.0032 - acc: 0.9991 - val_loss: 0.1066 - val_acc: 0.9804\n",
      "(61.12619686126709, 'seconds.')\n",
      "----------\n",
      "Loss: 0.106558\n",
      "Accuracy: 0.980400\n"
     ]
    },
    {
     "data": {
      "image/png": "[encoded data removed]",
      "text/plain": [
       "<matplotlib.figure.Figure at 0x7febcaca1f90>"
      ]
     },
     "metadata": {},
     "output_type": "display_data"
    }
   ],
   "source": [
    "model.compile(loss='categorical_crossentropy',\n",
    "              optimizer=optim,\n",
    "              metrics=['accuracy'])\n",
    "t = time.time()\n",
    "history = model.fit(X_train, Y_train,\n",
    "                batch_size=batch_size, nb_epoch=nb_epoch,\n",
    "                verbose=2,validation_data=(X_test, Y_test))\n",
    "print (time.time() - t, \"seconds.\")\n",
    "\n",
    "score = model.evaluate(X_test, Y_test, verbose=0)\n",
    "print (\"-\"*10)\n",
    "print (\"Loss: %f\"%(score[0]))\n",
    "print (\"Accuracy: %f\"%(score[1]))\n",
    "plot_curves(history,nb_epoch)"
   ]
  },
  {
   "cell_type": "markdown",
   "metadata": {
    "deletable": true,
    "editable": true
   },
   "source": [
    "Turns out that adding more layers did not do much for us. Accuracy is pretty much the same as the one we obtained with a single hidden layer, and now our model is overfitting to training data. How can we fix this?"
   ]
  },
  {
   "cell_type": "markdown",
   "metadata": {
    "deletable": true,
    "editable": true
   },
   "source": [
    "## Dropout"
   ]
  },
  {
   "cell_type": "markdown",
   "metadata": {
    "deletable": true,
    "editable": true
   },
   "source": [
    "**Exercise**: Add dropout layer(s) to the model and see how their effect in the training curves & accuracy."
   ]
  },
  {
   "cell_type": "code",
   "execution_count": 17,
   "metadata": {
    "collapsed": false,
    "deletable": true,
    "editable": true
   },
   "outputs": [],
   "source": [
    "import numpy as np\n",
    "np.random.seed(SEED)\n",
    "\n",
    "from keras.layers import Dropout\n",
    "\n",
    "dratio = 0.2\n",
    "H_DIM = 128\n",
    "\n",
    "model = Sequential()\n",
    "model.add(Dense(H_DIM, input_shape=(784,)))\n",
    "model.add(Activation('relu'))\n",
    "\n",
    "for i in range(4):\n",
    "    model.add(Dense(H_DIM))\n",
    "    model.add(Activation('relu'))\n",
    "    if i%2 == 0:\n",
    "        model.add(Dropout(dratio))\n",
    "    \n",
    "model.add(Dense(10))\n",
    "model.add(Activation('softmax'))"
   ]
  },
  {
   "cell_type": "code",
   "execution_count": 18,
   "metadata": {
    "collapsed": false,
    "deletable": true,
    "editable": true
   },
   "outputs": [
    {
     "name": "stdout",
     "output_type": "stream",
     "text": [
      "Train on 60000 samples, validate on 10000 samples\n",
      "Epoch 1/30\n",
      "2s - loss: 0.6924 - acc: 0.7768 - val_loss: 0.2061 - val_acc: 0.9359\n",
      "Epoch 2/30\n",
      "2s - loss: 0.2193 - acc: 0.9349 - val_loss: 0.1491 - val_acc: 0.9556\n",
      "Epoch 3/30\n",
      "1s - loss: 0.1595 - acc: 0.9525 - val_loss: 0.1194 - val_acc: 0.9623\n",
      "Epoch 4/30\n",
      "2s - loss: 0.1260 - acc: 0.9628 - val_loss: 0.1040 - val_acc: 0.9666\n",
      "Epoch 5/30\n",
      "2s - loss: 0.1059 - acc: 0.9679 - val_loss: 0.0963 - val_acc: 0.9708\n",
      "Epoch 6/30\n",
      "2s - loss: 0.0926 - acc: 0.9726 - val_loss: 0.0892 - val_acc: 0.9725\n",
      "Epoch 7/30\n",
      "2s - loss: 0.0779 - acc: 0.9761 - val_loss: 0.0807 - val_acc: 0.9744\n",
      "Epoch 8/30\n",
      "1s - loss: 0.0709 - acc: 0.9788 - val_loss: 0.0821 - val_acc: 0.9756\n",
      "Epoch 9/30\n",
      "2s - loss: 0.0625 - acc: 0.9812 - val_loss: 0.0755 - val_acc: 0.9775\n",
      "Epoch 10/30\n",
      "1s - loss: 0.0546 - acc: 0.9828 - val_loss: 0.0843 - val_acc: 0.9764\n",
      "Epoch 11/30\n",
      "2s - loss: 0.0506 - acc: 0.9841 - val_loss: 0.0915 - val_acc: 0.9748\n",
      "Epoch 12/30\n",
      "2s - loss: 0.0473 - acc: 0.9850 - val_loss: 0.0788 - val_acc: 0.9775\n",
      "Epoch 13/30\n",
      "1s - loss: 0.0426 - acc: 0.9862 - val_loss: 0.0773 - val_acc: 0.9788\n",
      "Epoch 14/30\n",
      "2s - loss: 0.0389 - acc: 0.9874 - val_loss: 0.0848 - val_acc: 0.9766\n",
      "Epoch 15/30\n",
      "1s - loss: 0.0378 - acc: 0.9880 - val_loss: 0.0766 - val_acc: 0.9780\n",
      "Epoch 16/30\n",
      "2s - loss: 0.0335 - acc: 0.9892 - val_loss: 0.0795 - val_acc: 0.9778\n",
      "Epoch 17/30\n",
      "2s - loss: 0.0297 - acc: 0.9899 - val_loss: 0.0841 - val_acc: 0.9786\n",
      "Epoch 18/30\n",
      "1s - loss: 0.0288 - acc: 0.9905 - val_loss: 0.0858 - val_acc: 0.9786\n",
      "Epoch 19/30\n",
      "2s - loss: 0.0255 - acc: 0.9918 - val_loss: 0.0837 - val_acc: 0.9799\n",
      "Epoch 20/30\n",
      "1s - loss: 0.0239 - acc: 0.9921 - val_loss: 0.0820 - val_acc: 0.9789\n",
      "Epoch 21/30\n",
      "2s - loss: 0.0228 - acc: 0.9925 - val_loss: 0.0843 - val_acc: 0.9793\n",
      "Epoch 22/30\n",
      "2s - loss: 0.0227 - acc: 0.9926 - val_loss: 0.0986 - val_acc: 0.9766\n",
      "Epoch 23/30\n",
      "2s - loss: 0.0218 - acc: 0.9929 - val_loss: 0.0890 - val_acc: 0.9785\n",
      "Epoch 24/30\n",
      "2s - loss: 0.0206 - acc: 0.9933 - val_loss: 0.0881 - val_acc: 0.9803\n",
      "Epoch 25/30\n",
      "1s - loss: 0.0175 - acc: 0.9943 - val_loss: 0.0883 - val_acc: 0.9802\n",
      "Epoch 26/30\n",
      "2s - loss: 0.0162 - acc: 0.9947 - val_loss: 0.1044 - val_acc: 0.9763\n",
      "Epoch 27/30\n",
      "2s - loss: 0.0155 - acc: 0.9949 - val_loss: 0.0989 - val_acc: 0.9796\n",
      "Epoch 28/30\n",
      "2s - loss: 0.0161 - acc: 0.9949 - val_loss: 0.0871 - val_acc: 0.9811\n",
      "Epoch 29/30\n",
      "2s - loss: 0.0137 - acc: 0.9957 - val_loss: 0.0966 - val_acc: 0.9785\n",
      "Epoch 30/30\n",
      "1s - loss: 0.0146 - acc: 0.9951 - val_loss: 0.1027 - val_acc: 0.9786\n",
      "(63.236692905426025, 'seconds.')\n",
      "----------\n",
      "Loss: 0.102720\n",
      "Accuracy: 0.978600\n"
     ]
    },
    {
     "data": {
      "image/png": "[encoded data removed]",
      "text/plain": [
       "<matplotlib.figure.Figure at 0x7febac3f7f90>"
      ]
     },
     "metadata": {},
     "output_type": "display_data"
    }
   ],
   "source": [
    "model.compile(loss='categorical_crossentropy',\n",
    "              optimizer=optim,\n",
    "              metrics=['accuracy'])\n",
    "t = time.time()\n",
    "history = model.fit(X_train, Y_train,\n",
    "                batch_size=batch_size, nb_epoch=nb_epoch,\n",
    "                verbose=verbose,validation_data=(X_test, Y_test))\n",
    "print (time.time() - t, \"seconds.\")\n",
    "\n",
    "score = model.evaluate(X_test, Y_test, verbose=0)\n",
    "print (\"-\"*10)\n",
    "print (\"Loss: %f\"%(score[0]))\n",
    "print (\"Accuracy: %f\"%(score[1]))\n",
    "plot_curves(history,nb_epoch)"
   ]
  },
  {
   "cell_type": "markdown",
   "metadata": {},
   "source": [
    "### Additional exercises:\n",
    "\n",
    "- Use one of the networks to study the effect of the following components:\n",
    "    - learning rate\n",
    "    - optimizer (you can find a list of the different optimizers available in keras [here](https://keras.io/optimizers/))\n",
    "    - learning rate decay\n",
    "- Try adding weight regularization in the hidden layers of the network. You can check how to do this in the documentation for [Dense layers](https://keras.io/layers/core/) and [Regularizers](https://keras.io/regularizers/) in keras."
   ]
  }
 ],
 "metadata": {
  "kernelspec": {
   "display_name": "Python [default]",
   "language": "python",
   "name": "python2"
  },
  "language_info": {
   "codemirror_mode": {
    "name": "ipython",
    "version": 2
   },
   "file_extension": ".py",
   "mimetype": "text/x-python",
   "name": "python",
   "nbconvert_exporter": "python",
   "pygments_lexer": "ipython2",
   "version": "2.7.13"
  }
 },
 "nbformat": 4,
 "nbformat_minor": 2
}
